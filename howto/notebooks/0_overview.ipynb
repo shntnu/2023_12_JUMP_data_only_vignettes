{
  "cells": [
    {
      "cell_type": "markdown",
      "metadata": {},
      "source": [
        "# \n",
        "\n",
        "# Overview of Notebooks\n",
        "\n",
        "You can use the sidebar on the left to find tutorials demoing the most\n",
        "common analyses, or click the links in the list below to run the guides\n",
        "directly only your browser in a Google Colab live coding environment.\n",
        "\n",
        "-   [Retrieve JUMP\n",
        "    profiles](https://colab.research.google.com/github/broadinstitute/jump_hub/blob/colab/colab/11_retrieve_profiles.ipynb)\n",
        "-   [Add metadata to\n",
        "    profiles](https://colab.research.google.com/github/broadinstitute/jump_hub/blob/colab/colab/12_add_metadata.ipynb)\n",
        "-   [Calculate phenotypic\n",
        "    activity](https://colab.research.google.com/github/broadinstitute/jump_hub/blob/colab/colab/13_calculate_activity.ipynb)\n",
        "-   [Display perturbation\n",
        "    images](https://colab.research.google.com/github/broadinstitute/jump_hub/blob/colab/colab/14_display_perturbation_images.ipynb)\n",
        "-   [Explore perturbation\n",
        "    clusters](https://colab.research.google.com/github/broadinstitute/jump_hub/blob/colab/colab/15_explore_distance_clusters.ipynb)\n",
        "-   [Query genes for more\n",
        "    info](https://colab.research.google.com/github/broadinstitute/jump_hub/blob/colab/colab/16_query_genes_externally.ipynb)\n",
        "\n",
        "If you are running the analyses on your computer, we have published a\n",
        "package containing all dependencies, you need only install in your\n",
        "environment using `pip install jump_deps` (Python 3.10 or 3.11)."
      ],
      "id": "2b9340be-fcf9-4e62-a385-b9d779238fc1"
    }
  ],
  "nbformat": 4,
  "nbformat_minor": 5,
  "metadata": {
    "kernelspec": {
      "display_name": "Python 3",
      "language": "python",
      "name": "python3"
    }
  }
}