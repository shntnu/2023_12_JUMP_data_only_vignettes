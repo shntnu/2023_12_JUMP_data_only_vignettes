{
 "cells": [
  {
   "cell_type": "markdown",
   "id": "727f3fce-8b33-487f-aff1-0f0bca6cfdc9",
   "metadata": {},
   "source": [
    "# Retrieve JUMP profiles\n",
    "\n",
    "This is a tutorial on how to access profiles from the [JUMP Cell\n",
    "Painting datasets](https://github.com/jump-cellpainting/datasets). We\n",
    "will use polars to fetch the data frames lazily, with the help of `s3fs`\n",
    "and `pyarrow`. We prefer lazy loading because the data can be too big to\n",
    "be handled in memory."
   ]
  },
  {
   "cell_type": "code",
   "execution_count": 0,
   "id": "9cdfc6acb0f0-1ffa-f784-33b8-ecf3f727",
   "metadata": {},
   "outputs": [],
   "source": [
    "!pip install jump_deps"
   ]
  },
  {
   "cell_type": "code",
   "execution_count": 1,
   "id": "f5c034ca",
   "metadata": {
    "title": "Imports"
   },
   "outputs": [],
   "source": [
    "import polars as pl"
   ]
  },
  {
   "cell_type": "markdown",
   "id": "7008df1b-09e7-41c9-892d-f7aac02f5296",
   "metadata": {},
   "source": [
    "The JUMP Cell Painting project provides several processed datasets for\n",
    "morphological profiling:\n",
    "\n",
    "-   **`crispr`**: CRISPR knockout genetic perturbations\n",
    "-   **`orf`**: Open Reading Frame (ORF) overexpression perturbations\n",
    "-   **`compound`**: Chemical compound perturbations\n",
    "-   **`all`**: Combined dataset containing all perturbation types\n",
    "\n",
    "Each dataset is available in two versions:\n",
    "\n",
    "-   **Standard**: Fully processed including batch correction\n",
    "-   **Interpretable**: Same processing but without batch correction\n",
    "    steps (which involve transformations that lose the original feature\n",
    "    space)\n",
    "\n",
    "All datasets are stored as Parquet files on AWS S3 and can be accessed\n",
    "directly via their URLs. Snakemake workflows for producing these\n",
    "assembled profiles are available\n",
    "[here](https://github.com/broadinstitute/jump-profiling-recipe/). The\n",
    "specific commit used to produce the profiles can be found in the folder\n",
    "path of each parquet file. For example,\n",
    "`jump-profiling-recipe_2024_a917fa7` indicates commit `a917fa7` was\n",
    "used. The index file below contains the exact locations and metadata for\n",
    "each dataset:"
   ]
  },
  {
   "cell_type": "code",
   "execution_count": 2,
   "id": "c6a6b0c4",
   "metadata": {
    "title": "Paths"
   },
   "outputs": [],
   "source": [
    "INDEX_FILE = \"https://raw.githubusercontent.com/jump-cellpainting/datasets/v0.9.0/manifests/profile_index.csv\""
   ]
  },
  {
   "cell_type": "markdown",
   "id": "c6e12363-d634-4d42-a18b-7674c600bb24",
   "metadata": {},
   "source": [
    "We use the version-controlled CSV above to release the latest corrected\n",
    "profiles"
   ]
  },
  {
   "cell_type": "code",
   "execution_count": 3,
   "id": "02c31160",
   "metadata": {},
   "outputs": [
    {
     "data": {
      "text/html": [
       "</div>"
      ]
     },
     "metadata": {},
     "output_type": "display_data"
    }
   ],
   "source": [
    "profile_index = pl.read_csv(INDEX_FILE)\n",
    "profile_index.head()"
   ]
  },
  {
   "cell_type": "markdown",
   "id": "32a99d52-2c53-445b-a6bf-8f548747f726",
   "metadata": {},
   "source": [
    "We do not need the ‘etag’ (used to check file integrity) column nor the\n",
    "‘interpretable’ (i.e., before major modifications)"
   ]
  },
  {
   "cell_type": "code",
   "execution_count": 4,
   "id": "772d0ada",
   "metadata": {},
   "outputs": [
    {
     "name": "stdout",
     "output_type": "stream",
     "text": [
      "{'orf': 'https://cellpainting-gallery.s3.amazonaws.com/cpg0016-jump-assembled/source_all/workspace/profiles/jump-profiling-recipe_2024_a917fa7/ORF/profiles_wellpos_cc_var_mad_outlier_featselect_sphering_harmony/profiles_wellpos_cc_var_mad_outlier_featselect_sphering_harmony.parquet', 'crispr': 'https://cellpainting-gallery.s3.amazonaws.com/cpg0016-jump-assembled/source_all/workspace/profiles/jump-profiling-recipe_2024_a917fa7/CRISPR/profiles_wellpos_cc_var_mad_outlier_featselect_sphering_harmony_PCA_corrected/profiles_wellpos_cc_var_mad_outlier_featselect_sphering_harmony_PCA_corrected.parquet', 'compound': 'https://cellpainting-gallery.s3.amazonaws.com/cpg0016-jump-assembled/source_all/workspace/profiles/jump-profiling-recipe_2024_a917fa7/COMPOUND/profiles_var_mad_int_featselect_harmony/profiles_var_mad_int_featselect_harmony.parquet'}"
     ]
    }
   ],
   "source": [
    "selected_profiles = profile_index.filter(\n",
    "    pl.col(\"subset\").is_in((\"crispr\", \"orf\", \"compound\"))\n",
    ").select(pl.exclude(\"etag\"))\n",
    "filepaths = dict(selected_profiles.iter_rows())\n",
    "print(filepaths)"
   ]
  },
  {
   "cell_type": "markdown",
   "id": "9581e1b5-c12f-41c5-bafb-40f7db3b5b95",
   "metadata": {},
   "source": [
    "We will lazy-load the dataframes and print the number of rows and\n",
    "columns"
   ]
  },
  {
   "cell_type": "code",
   "execution_count": 5,
   "id": "34aa3e1f",
   "metadata": {},
   "outputs": [
    {
     "data": {
      "text/html": [
       "</div>"
      ]
     },
     "metadata": {},
     "output_type": "display_data"
    }
   ],
   "source": [
    "info = {k: [] for k in (\"dataset\", \"#rows\", \"#cols\", \"#Metadata cols\", \"Size (MB)\")}\n",
    "for name, path in filepaths.items():\n",
    "    data = pl.scan_parquet(path)\n",
    "    n_rows = data.select(pl.len()).collect().item()\n",
    "    schema = data.collect_schema()\n",
    "    metadata_cols = [col for col in schema.keys() if col.startswith(\"Metadata\")]\n",
    "    n_cols = schema.len()\n",
    "    n_meta_cols = len(metadata_cols)\n",
    "    estimated_size = int(round(4.03 * n_rows * n_cols / 1e6, 0))  # B -> MB\n",
    "    for k, v in zip(info.keys(), (name, n_rows, n_cols, n_meta_cols, estimated_size)):\n",
    "        info[k].append(v)\n",
    "\n",
    "pl.DataFrame(info)"
   ]
  },
  {
   "cell_type": "markdown",
   "id": "a734422b-2e85-4121-8733-c8e01761d0fe",
   "metadata": {},
   "source": [
    "Let us now focus on the `crispr` dataset and use a regex to select the\n",
    "metadata columns. We will then sample rows and display the overview.\n",
    "Note that the collect() method enforces loading some data into memory."
   ]
  },
  {
   "cell_type": "code",
   "execution_count": 6,
   "id": "ae03688f",
   "metadata": {},
   "outputs": [
    {
     "data": {
      "text/html": [
       "</div>"
      ]
     },
     "metadata": {},
     "output_type": "display_data"
    }
   ],
   "source": [
    "data = pl.scan_parquet(filepaths[\"crispr\"])\n",
    "data.select(pl.col(\"^Metadata.*$\").sample(n=5, seed=1)).collect()"
   ]
  },
  {
   "cell_type": "markdown",
   "id": "34f7db3a-c2ec-43cc-81cc-b453278bf55e",
   "metadata": {},
   "source": [
    "The following line excludes the metadata columns:"
   ]
  },
  {
   "cell_type": "code",
   "execution_count": 7,
   "id": "3cc583f6",
   "metadata": {},
   "outputs": [
    {
     "data": {
      "text/html": [
       "</div>"
      ]
     },
     "metadata": {},
     "output_type": "display_data"
    }
   ],
   "source": [
    "data_only = data.select(pl.all().exclude(\"^Metadata.*$\").sample(n=5, seed=1)).collect()\n",
    "data_only"
   ]
  },
  {
   "cell_type": "markdown",
   "id": "9ebeb7f7-3888-4e43-9959-763fc8019db7",
   "metadata": {},
   "source": [
    "Finally, we can convert this to `pandas` if we want to perform analyses\n",
    "with that tool. Keep in mind that this loads the entire dataframe into\n",
    "memory."
   ]
  },
  {
   "cell_type": "code",
   "execution_count": 8,
   "id": "1ab32244",
   "metadata": {},
   "outputs": [
    {
     "data": {
      "text/html": [
       "\n",
       "<p>5 rows × 259 columns</p>\n",
       "</div>"
      ]
     },
     "metadata": {},
     "output_type": "display_data"
    }
   ],
   "source": [
    "data_only.to_pandas()"
   ]
  }
 ],
 "metadata": {
  "jupytext": {
   "executable": "/usr/bin/env jupyter",
   "text_representation": {
    "extension": ".qmd",
    "format_name": "quarto",
    "format_version": "1.0",
    "jupytext_version": "1.17.2"
   }
  },
  "kernelspec": {
   "display_name": "Python 3",
   "language": "python",
   "name": "python3"
  },
  "language_info": {
   "codemirror_mode": {
    "name": "ipython",
    "version": "3"
   },
   "file_extension": ".py",
   "mimetype": "text/x-python",
   "name": "python",
   "nbconvert_exporter": "python",
   "pygments_lexer": "ipython3",
   "version": "3.11.12"
  }
 },
 "nbformat": 4,
 "nbformat_minor": 5
}
