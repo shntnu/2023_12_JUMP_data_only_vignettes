{
  "cells": [
    {
      "cell_type": "markdown",
      "metadata": {},
      "source": [
        "# \n",
        "\n",
        "# Data Components Reference\n",
        "\n",
        "## Data Organization\n",
        "\n",
        "Each dataset follows the Cell Painting Gallery structure:\n",
        "\n",
        "``` text\n",
        "cpg0016-jump/\n",
        "├── source_X/\n",
        "    ├── workspace/\n",
        "        ├── profiles/\n",
        "        ├── load_data_csv/\n",
        "        └── [other components]\n",
        "```\n",
        "\n",
        "TODO: Explain further"
      ],
      "id": "86f23a6a-0d9d-472b-8293-5a9c0aac7579"
    }
  ],
  "nbformat": 4,
  "nbformat_minor": 5,
  "metadata": {
    "kernelspec": {
      "display_name": "Python 3",
      "language": "python",
      "name": "python3"
    }
  }
}