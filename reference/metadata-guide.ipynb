{
  "cells": [
    {
      "cell_type": "markdown",
      "metadata": {},
      "source": [
        "# \n",
        "\n",
        "# Metadata Guide\n",
        "\n",
        "Full schema available at\n",
        "<https://github.com/jump-cellpainting/datasets/blob/main/metadata/README.md>.\n",
        "\n",
        "## Key Identifiers\n",
        "\n",
        "TODO: \\[Add info about JCP IDs and other key identifiers used\\]"
      ],
      "id": "ba0c229b-29f3-40f4-97e8-20ff6db4dc1c"
    }
  ],
  "nbformat": 4,
  "nbformat_minor": 5,
  "metadata": {
    "kernelspec": {
      "display_name": "Python 3",
      "language": "python",
      "name": "python3"
    }
  }
}